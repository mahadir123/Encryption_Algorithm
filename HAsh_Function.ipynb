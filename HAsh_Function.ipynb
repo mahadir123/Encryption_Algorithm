{
  "nbformat": 4,
  "nbformat_minor": 0,
  "metadata": {
    "colab": {
      "provenance": [],
      "authorship_tag": "ABX9TyNhMVO9jEYemneqv+WFQvbx",
      "include_colab_link": true
    },
    "kernelspec": {
      "name": "python3",
      "display_name": "Python 3"
    },
    "language_info": {
      "name": "python"
    }
  },
  "cells": [
    {
      "cell_type": "markdown",
      "metadata": {
        "id": "view-in-github",
        "colab_type": "text"
      },
      "source": [
        "<a href=\"https://colab.research.google.com/github/mahadir123/Encryption_Algorithm/blob/main/HAsh_Function.ipynb\" target=\"_parent\"><img src=\"https://colab.research.google.com/assets/colab-badge.svg\" alt=\"Open In Colab\"/></a>"
      ]
    },
    {
      "cell_type": "markdown",
      "source": [
        "# Implementation Hash Function to compute the hash of given string\n",
        "\n",
        "**Code for Hash Function**:"
      ],
      "metadata": {
        "id": "yRaqy9I5b3Xu"
      }
    },
    {
      "cell_type": "code",
      "source": [
        "import hashlib\n",
        "import uuid\n",
        "import os\n",
        "\n",
        "def create_random_salt(length=16):\n",
        "    return os.urandom(length)\n",
        "\n",
        "def create_sha2_hash(input_value, salt):\n",
        "    value_to_hash = salt + input_value.encode()\n",
        "    return hashlib.sha256(value_to_hash).digest()\n",
        "\n",
        "if __name__ == \"__main__\":\n",
        "    salt = create_random_salt()\n",
        "    print(\"SALT_VALUE: \", salt.hex())\n",
        "    value_to_hash = str(uuid.uuid4())\n",
        "    hash1 = create_sha2_hash(value_to_hash, salt)\n",
        "    print(\"HASH1_VALUE: \", hash1.hex())\n",
        "    hash2 = create_sha2_hash(value_to_hash, salt)\n",
        "    print(\"HASH2_VALUE: \",hash2.hex())"
      ],
      "metadata": {
        "colab": {
          "base_uri": "https://localhost:8080/"
        },
        "id": "x5bNluMXcQzK",
        "outputId": "e4d67e34-149d-468a-ce7d-ed852c265d69"
      },
      "execution_count": 4,
      "outputs": [
        {
          "output_type": "stream",
          "name": "stdout",
          "text": [
            "SALT_VALUE:  24a7e7ffd6c234fe34f7ca1b5eef8c32\n",
            "HASH1_VALUE:  9a7225a5e4656f041b9a5ff1c91d1ab7efdec52bbdc6aa9b2cca1159a326b1c3\n",
            "HASH2_VALUE:  9a7225a5e4656f041b9a5ff1c91d1ab7efdec52bbdc6aa9b2cca1159a326b1c3\n"
          ]
        }
      ]
    },
    {
      "cell_type": "markdown",
      "source": [
        "**Working of Hash Function**:\n",
        "\n",
        "\n",
        "1.   create_random_salt(length=16):\n",
        "\n",
        "  This function uses os.urandom(length) to generate a random salt of the given length (by default, 16 bytes).\n",
        "  To create cryptographically secure random bytes that can be used to create salts, use os.urandom().\n",
        "\n",
        "2.  create_sha2_hash(input_value, salt):\n",
        "\n",
        "  This function concatenates the input value encoded in bytes with the salt to produce a SHA-256 hash.\n",
        "  The digest of hashes is returned.\n",
        "\n",
        "\n",
        "\n",
        "3.  Main Section (if \"__main__\" == __name__):\n",
        "\n",
        "  Using create_random_salt(), it produces a random salt and prints it.\n",
        "  It uses uuid.uuid4() to generate a UUID (Universally Unique Identifier). This UUID serves as the hash's input value.\n",
        "  Using create_sha2_hash() and salt, it hashes the UUID and outputs the hash value (hash1).\n",
        "  It prints the hash value (hash2) once more after hashing the same UUID with the same salt.\n",
        "\n",
        "4.   Output:\n",
        "\n",
        " Salt value, hash1, and hash2 are printed.\n",
        "\n",
        "\n",
        "\n",
        "\n"
      ],
      "metadata": {
        "id": "l1v8NgQ8c5z3"
      }
    }
  ]
}