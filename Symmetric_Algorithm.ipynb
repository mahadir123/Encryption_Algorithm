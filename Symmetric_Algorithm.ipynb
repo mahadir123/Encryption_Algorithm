{
  "nbformat": 4,
  "nbformat_minor": 0,
  "metadata": {
    "colab": {
      "provenance": [],
      "authorship_tag": "ABX9TyM4s8CoRbap0jOXDP84PaUP",
      "include_colab_link": true
    },
    "kernelspec": {
      "name": "python3",
      "display_name": "Python 3"
    },
    "language_info": {
      "name": "python"
    }
  },
  "cells": [
    {
      "cell_type": "markdown",
      "metadata": {
        "id": "view-in-github",
        "colab_type": "text"
      },
      "source": [
        "<a href=\"https://colab.research.google.com/github/mahadir123/Encryption_Algorithm/blob/main/Symmetric_Algorithm.ipynb\" target=\"_parent\"><img src=\"https://colab.research.google.com/assets/colab-badge.svg\" alt=\"Open In Colab\"/></a>"
      ]
    },
    {
      "cell_type": "markdown",
      "source": [
        "# **Implementation of Symmetric Algorithm**\n",
        "\n",
        "\n",
        "\n",
        "1.   Blowfish Algorithm\n",
        "\n",
        "  Bruce Schneier created the symmetric block cipher algorithm known as Blowfish in 1993. It is well-liked for use in a variety of applications due to its efficiency and simplicity. Here are some essential details regarding the Blowfish algorithm.\n",
        "\n",
        "**Code for blowfish algorithm**\n"
      ],
      "metadata": {
        "id": "zhxuVT7qE5JK"
      }
    },
    {
      "cell_type": "code",
      "source": [
        "from Crypto.Cipher import Blowfish\n",
        "from Crypto.Util.Padding import pad, unpad\n",
        "from Crypto.Random import get_random_bytes\n",
        "\n",
        "def encrypt(plaintext, key):\n",
        "    cipher = Blowfish.new(key, Blowfish.MODE_ECB)\n",
        "    ciphertext = cipher.encrypt(pad(plaintext, Blowfish.block_size))\n",
        "    return ciphertext\n",
        "\n",
        "def decrypt(ciphertext, key):\n",
        "    cipher = Blowfish.new(key, Blowfish.MODE_ECB)\n",
        "    plaintext = unpad(cipher.decrypt(ciphertext), Blowfish.block_size)\n",
        "    return plaintext\n",
        "\n",
        "# Example usage\n",
        "key = get_random_bytes(16)\n",
        "plaintext = b\"Hello, world!\"\n",
        "ciphertext = encrypt(plaintext, key)\n",
        "decrypted_text = decrypt(ciphertext, key)\n",
        "\n",
        "print(\"Plaintext:\", plaintext)\n",
        "print(\"Ciphertext:\", ciphertext)\n",
        "print(\"Decrypted text:\", decrypted_text)"
      ],
      "metadata": {
        "colab": {
          "base_uri": "https://localhost:8080/"
        },
        "id": "pQuY58j738PG",
        "outputId": "a805e826-66b1-4079-ac5a-f9305552c529"
      },
      "execution_count": null,
      "outputs": [
        {
          "output_type": "stream",
          "name": "stdout",
          "text": [
            "Plaintext: b'Hello, world!'\n",
            "Ciphertext: b'\\x9a\\x971\\xcd\\xe5e\\xfeZ\\xa6\\x04$\\xac\\xaf\\xf4\\x9b0'\n",
            "Decrypted text: b'Hello, world!'\n"
          ]
        }
      ]
    },
    {
      "cell_type": "markdown",
      "source": [
        "\n",
        "\n",
        "\n",
        "\n",
        "\n",
        "##WORKING OF BLOWFISH ALGORITHM\n",
        "\n",
        "\n",
        "\n",
        "\n",
        "\n",
        "*  from Crypto.Cipher import Blowfish: The Blowfish cipher is imported using this line. Crypto.Cipher is a module of the pycryptodome library, which is used for cryptographic operations.\n",
        "\n",
        "*   through Crypto.Import pad, unpad Util.Padding: This line imports the pad and unpad functions from the module Crypto.Util.Padding. Before encryption, these functions are used to add padding to the plaintext; after encryption, they are used to remove padding from the text.\n",
        "\n",
        "\n",
        "\n",
        "*   through Crypto.import random from get_random_bytes: The Crypto.Random module's get random bytes function is imported in this line. To create a random key for encryption, use this function\n",
        "\n",
        "*   encrypt(plaintext, key): With the plaintext and encryption key as inputs, this function builds an ECB mode Blowfish cipher object with the key supplied, encrypts the plaintext with the cipher, and outputs the ciphertext.\n",
        "\n",
        "\n",
        "\n",
        "*   decrypt(ciphertext, key): This function accepts two inputs: the ciphertext and the decryption key. It then uses the key to create an ECB mode Blowfish cipher object, decrypts the ciphertext using the cipher, and outputs the plaintext back.\n",
        "\n",
        "\n",
        "\n",
        "*   key = get_random_bytes(16): This line creates an encryption key with a random length of 16 bytes.\n",
        "\n",
        "*  textplain = \"Hello, world!\" \"Hello, world!\" is the plaintext that is set to be encrypted by this line.\n",
        "\n",
        "*  ciphertext = encrypt(plaintext, key): This line stores the generated ciphertext after encrypting the plaintext with it.\n",
        "\n",
        "*  decrypted_text = decrypt(ciphertext, key): This line stores the decrypted plaintext after decrypting the ciphertext with the same key.\n",
        "\n",
        "*   The decrypted text, the encrypted ciphertext, and the original plaintext are all displayed to the console via the print statements.  \n",
        "\n",
        "\n",
        "\n",
        "\n",
        "\n",
        "\n",
        "\n"
      ],
      "metadata": {
        "id": "p5BkUfJlB1xs"
      }
    },
    {
      "cell_type": "markdown",
      "source": [
        "\n",
        "2.   Data Encryption Standard (DES):\n",
        "\n",
        " Using a 56-bit key, DES is an antiquated symmetric encryption algorithm. Security concerns have led to AES taking its place.\n",
        "\n",
        "\n",
        "\n",
        "    \n",
        "\n",
        "  **Code for DES Algorithm**:\n",
        "\n",
        "\n",
        "\n",
        "\n"
      ],
      "metadata": {
        "id": "T5apGJUyEtaK"
      }
    },
    {
      "cell_type": "code",
      "source": [
        "from Crypto.Cipher import DES\n",
        "from Crypto.Util.Padding import pad, unpad\n",
        "\n",
        "def des_encrypt(key, plaintext):\n",
        "    cipher = DES.new(key, DES.MODE_ECB)\n",
        "    padded_plaintext = pad(plaintext, DES.block_size)\n",
        "    ciphertext = cipher.encrypt(padded_plaintext)\n",
        "    return ciphertext\n",
        "\n",
        "def des_decrypt(key, ciphertext):\n",
        "    cipher = DES.new(key, DES.MODE_ECB)\n",
        "    padded_plaintext = cipher.decrypt(ciphertext)\n",
        "    plaintext = unpad(padded_plaintext, DES.block_size)\n",
        "    return plaintext\n",
        "\n",
        "# Example usage\n",
        "key = b'01234567'  # 8-byte key\n",
        "plaintext = b'Hello, world!'\n",
        "ciphertext = des_encrypt(key, plaintext)\n",
        "decrypted_text = des_decrypt(key, ciphertext)\n",
        "\n",
        "print(\"Plaintext:\", plaintext)\n",
        "print(\"Ciphertext:\", ciphertext)\n",
        "print(\"Decrypted text:\",decrypted_text)\n"
      ],
      "metadata": {
        "colab": {
          "base_uri": "https://localhost:8080/"
        },
        "id": "8JRQufClGJb1",
        "outputId": "656f5b95-d100-4423-a6a5-3dffe06a70cf"
      },
      "execution_count": 39,
      "outputs": [
        {
          "output_type": "stream",
          "name": "stdout",
          "text": [
            "Plaintext: b'Hello, world!'\n",
            "Ciphertext: b'C\\x11\\nP\\x96\\xcf\\x9b\\xf3\\xe1@\\xa1\\xe9\\xcb\\x8c\\xc5h'\n",
            "Decrypted text: b'Hello, world!'\n"
          ]
        }
      ]
    },
    {
      "cell_type": "markdown",
      "source": [
        "##Working of DES Algorithm\n",
        "\n",
        "1. Import Libraries:\n",
        "\n",
        "  from Crypto.Cipher import DES: This imports the DES cipher from the Crypto.Cipher module.\n",
        "  from Crypto.Util.Padding import pad, unpad: These functions are used for padding and unpadding data to match block sizes.\n",
        "\n",
        "2. Encryption Function (des_encrypt):\n",
        "\n",
        "  des_encrypt(key, plaintext): This function takes a key and plaintext as input and returns the ciphertext.\n",
        "  cipher = DES.new(key, DES.MODE_ECB): This initializes a new DES cipher object with the provided key using ECB (Electronic Codebook) mode.\n",
        "  padded_plaintext = pad(plaintext, DES.block_size): This pads the plaintext to make its length a multiple of the DES block size.\n",
        "  ciphertext = cipher.encrypt(padded_plaintext): This encrypts the padded plaintext using the DES cipher.\n",
        "\n",
        "3.   Decryption Function (des_decrypt):\n",
        "\n",
        "  des_decrypt(key, ciphertext): This function takes a key and ciphertext as input and returns the decrypted plaintext.\n",
        "  cipher = DES.new(key, DES.MODE_ECB): This initializes a new DES cipher object with the provided key using ECB mode.\n",
        "  padded_plaintext = cipher.decrypt(ciphertext): This decrypts the ciphertext using the DES cipher.\n",
        "  plaintext = unpad(padded_plaintext, DES.block_size): This removes the padding from the decrypted plaintext.\n",
        "\n",
        "4.  Example Usage:\n",
        "\n",
        "  key = b'01234567': This is the 8-byte key used for encryption and decryption.\n",
        "  plaintext = b'Hello, world!': This is the plaintext to be encrypted.\n",
        "  ciphertext = des_encrypt(key, plaintext): This encrypts the plaintext using the provided key.\n",
        "  decrypted_text = des_decrypt(key, ciphertext): This decrypts the ciphertext using the same key.\n",
        "\n",
        "\n",
        "5.   Print Results:\n",
        "\n",
        "  print(\"Plaintext:\", plaintext): Prints the original plaintext.\n",
        "  print(\"Ciphertext:\", ciphertext): Prints the encrypted ciphertext.\n",
        "  print(\"Decrypted text:\", decrypted_text): Prints the decrypted plaintext.\n",
        "\n",
        "\n",
        "\n",
        "\n"
      ],
      "metadata": {
        "id": "JibnVYc2QVDJ"
      }
    }
  ]
}